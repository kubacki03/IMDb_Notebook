{
 "cells": [
  {
   "cell_type": "code",
   "execution_count": null,
   "id": "initial_id",
   "metadata": {
    "collapsed": true
   },
   "outputs": [],
   "source": [
    "import time\n",
    "\n",
    "import numpy as np\n",
    "import pandas as pd\n",
    "import matplotlib.pyplot as plt\n",
    "import seaborn as sns\n",
    "\n",
    "from scipy.stats import chisquare\n",
    "from scipy.stats import shapiro, normaltest, norm\n",
    "from sklearn.preprocessing import LabelEncoder\n",
    "import matplotlib.ticker as ticker\n",
    "df = pd.read_csv('./data/data.csv')\n",
    "df.dropna(inplace=True)\n",
    "df['Main Genre'] = df['Genres'].str.split(',').str[0].str.strip()\n",
    "prog =0"
   ]
  },
  {
   "metadata": {},
   "cell_type": "code",
   "outputs": [],
   "execution_count": null,
   "source": [
    "#Podstawowe statystyki opisowe\n",
    "info = df.describe()\n",
    "print(info)"
   ],
   "id": "a41564bc390d232c"
  },
  {
   "metadata": {},
   "cell_type": "code",
   "outputs": [],
   "execution_count": null,
   "source": [
    "#Histogram ocen\n",
    "data = df['Your Rating'].dropna()\n",
    "plt.figure(figsize=(8,5))\n",
    "sns.histplot(data, bins=range(1,12), stat=\"density\", color=\"skyblue\", edgecolor=\"black\", label=\"Dane\")\n",
    "\n",
    "\n",
    "\n",
    "mu = data.mean()\n",
    "sigma = data.std()\n",
    "\n",
    "x = np.linspace(data.min(), data.max(), 100)\n",
    "plt.plot(x, norm.pdf(x, mu, sigma), color='red', linestyle='--', label='Normalny dzwon')\n",
    "plt.xticks(range(1,11))\n",
    "plt.title(\"Rozkład ocen\")\n",
    "plt.xlabel('Your Rating')\n",
    "plt.ylabel(\"Gęstość\")\n",
    "plt.legend()\n",
    "plt.show()"
   ],
   "id": "e3d79d892a11808a"
  },
  {
   "metadata": {},
   "cell_type": "code",
   "outputs": [],
   "execution_count": null,
   "source": [
    "#Wykres rozrzutu ocena IMDb - moja ocena\n",
    "plt.scatter(df['IMDb Rating'], df['Your Rating'])\n",
    "plt.title(\"IMDb Rating vs Your Rating\")\n",
    "plt.xlabel(\"IMDb Rating\")\n",
    "plt.ylabel(\"Your Rating\")\n",
    "\n",
    "plt.show()"
   ],
   "id": "57ee9c90b8e29d8"
  },
  {
   "metadata": {},
   "cell_type": "code",
   "outputs": [],
   "execution_count": null,
   "source": [
    "#Wyświetla x najwyżej ocenianych filmów wg. IMDb, które obejrzałem\n",
    "x=5\n",
    "\n",
    "top_movies = df.sort_values(by='IMDb Rating', ascending=False, ignore_index=True)\n",
    "print(top_movies[['Title', 'IMDb Rating', 'Your Rating']].head(x))\n"
   ],
   "id": "707763832ccbbf7d"
  },
  {
   "metadata": {},
   "cell_type": "code",
   "outputs": [],
   "execution_count": null,
   "source": [
    "#Odchylenie mojej oceny od oceny IMDb\n",
    "dif = df['Your Rating'].mean()-df['IMDb Rating'].mean()\n",
    "\n",
    "if dif < 0:\n",
    "    print(f'Twoja ocena jest zazwyczaj niższa o {np.abs(dif)} od IMDb')\n",
    "elif dif > 0:\n",
    "    print(f'Twoja ocena jest zazwyczaj wyższa o {np.abs(dif)} od IMDb')"
   ],
   "id": "52ae729a64c1a20f"
  }
 ],
 "metadata": {
  "kernelspec": {
   "display_name": "Python 3",
   "language": "python",
   "name": "python3"
  },
  "language_info": {
   "codemirror_mode": {
    "name": "ipython",
    "version": 2
   },
   "file_extension": ".py",
   "mimetype": "text/x-python",
   "name": "python",
   "nbconvert_exporter": "python",
   "pygments_lexer": "ipython2",
   "version": "2.7.6"
  }
 },
 "nbformat": 4,
 "nbformat_minor": 5
}
